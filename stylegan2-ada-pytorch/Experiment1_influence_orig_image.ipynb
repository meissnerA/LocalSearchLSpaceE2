{
 "cells": [
  {
   "cell_type": "markdown",
   "metadata": {},
   "source": [
    "# Vorgehen:\n",
    "- produziere 10,000 images und extrahiere das zielattribut\n",
    "- generiere buckets in denen das zielattribut von 0-0.1, 0.1-0.2, ... 0.9-1.0 ist\n",
    "- iteriere über alle bilder in einem bucket, verändere sie mit dem attributsvektor, und speichere die prediction-difference ab (für attribute <0.5 attributsvektor addieren sonst subtrahieren\n"
   ]
  },
  {
   "cell_type": "markdown",
   "metadata": {},
   "source": [
    "# Conclusion\n",
    "- der Ausgangspunkt hat einen signifikaten Einfluss auf die Wirksamkeit des Attributvektors\n",
    "- wenn latent vektoren miteinander verglichen werden ist es daher wichtig gleiche Ausgangs- und geshiftete Bilder miteinander zu vergleichen\n",
    "- Bilder mit einen Ausgangspunkt nahe der 0.0 bzw. 1.0 haben eine höhere Standardabweichung"
   ]
  },
  {
   "cell_type": "code",
   "execution_count": 3,
   "metadata": {},
   "outputs": [],
   "source": [
    "from os import listdir\n",
    "from os.path import isfile, join\n",
    "from natsort import natsorted\n",
    "import sys\n",
    "stylegan2_path = '../stylegan2-ada-pytorch'\n",
    "sys.path.append(stylegan2_path)\n",
    "\n",
    "import dnnlib\n",
    "import click\n",
    "import legacy\n",
    "import torch\n",
    "import numpy as np\n",
    "from PIL import Image\n",
    "from scipy.spatial.distance import cosine\n",
    "import torch.nn.functional as F\n",
    "import pandas as pd\n",
    "import pickle\n",
    "import random\n",
    "\n",
    "n_regressor_predictions = 40 # the regressor is pretrained on CelebA and predicts 40 face attributes\n",
    "device = 'cuda:0'\n",
    "batch_size = 1\n",
    "truncation_psi = 0.5\n",
    "noise_mode = 'const'\n",
    "network_pkl =  '../pretrained_models/ffhq.pkl'\n",
    "\n",
    "with dnnlib.util.open_url(network_pkl) as f:\n",
    "    G = legacy.load_network_pkl(f)['G_ema'].to(device) # stylegan2-generator\n",
    "\n",
    "label = torch.zeros([1, G.c_dim], device=device)\n",
    "\n",
    "def initialize_model():\n",
    "    from facenet_pytorch import MTCNN, InceptionResnetV1\n",
    "    resnet = InceptionResnetV1(pretrained='vggface2').to(device).eval()\n",
    "    return resnet\n",
    "\n",
    "face_rec = initialize_model()\n",
    "file_to_read = open(\"../pretrained_models/resnet_092_all_attr_5_epochs.pkl\", \"rb\")\n",
    "regressor = pickle.load(file_to_read)\n",
    "file_to_read.close()\n",
    "regressor.eval()\n",
    "sigmoid = torch.nn.Sigmoid().to(device)\n",
    "attr_vec_ours_bs8_smile = torch.load(\"../attribute_vectors/l_vec_our_old_approach_smile_w.pt\", map_location=device)\n"
   ]
  },
  {
   "cell_type": "code",
   "execution_count": 4,
   "metadata": {},
   "outputs": [],
   "source": [
    "'''\n",
    "create 10000 images and save the seed and smiling prediction in a dataframe\n",
    "'''\n",
    "attr_index = 31\n",
    "df = pd.DataFrame(columns=[\"seed\", \"attr_pred\"])\n",
    "sigmoid = torch.nn.Sigmoid().to(device)\n",
    "\n",
    "for i in range(10000):\n",
    "    z = torch.from_numpy(np.random.RandomState(i).randn(1, 512)).to(device)\n",
    "    w = G.mapping(z,label, truncation_psi=truncation_psi)\n",
    "    img = G.synthesis(w, noise_mode=noise_mode)\n",
    "    img = F.interpolate(img, size=256)\n",
    "    pred = sigmoid(regressor(img)).detach().cpu().numpy()[0,attr_index]\n",
    "    new_row = {\"seed\": i, \"attr_pred\": pred}\n",
    "    df = df.append(new_row, ignore_index=True)"
   ]
  },
  {
   "cell_type": "code",
   "execution_count": 7,
   "metadata": {},
   "outputs": [
    {
     "name": "stdout",
     "output_type": "stream",
     "text": [
      "(394, 2)\n",
      "(276, 2)\n",
      "(225, 2)\n",
      "(243, 2)\n",
      "(245, 2)\n",
      "(258, 2)\n",
      "(356, 2)\n",
      "(507, 2)\n",
      "(6418, 2)\n"
     ]
    }
   ],
   "source": [
    "'''\n",
    "create dict with ranges 0.0-0.1, 0.1-0.2, ... 0.9-0.1 as keys\n",
    "for each prediction lying in the corresponding range, add the seed to the dict\n",
    "'''\n",
    "hist_indices = {}\n",
    "df1 = df.loc[df[\"attr_pred\"] < 0.1]\n",
    "hist_indices[\"0.0\"] = df1[\"seed\"].values\n",
    "smallest_bucket = df1.shape[0]\n",
    "for i in range(1,10):\n",
    "    df1 = df.loc[df[\"attr_pred\"] > 0.1*i]\n",
    "    df1 = df1.loc[df[\"attr_pred\"] < (0.1*i + 0.1)]\n",
    "    print(df1.shape)\n",
    "    if df1.shape[0] < smallest_bucket:\n",
    "        smallest_bucket = df1.shape[0]\n",
    "    hist_indices[str(0.1*i)] = df1[\"seed\"].values"
   ]
  },
  {
   "cell_type": "markdown",
   "metadata": {},
   "source": [
    "# resize the buckets randomly based on smallest bucket"
   ]
  },
  {
   "cell_type": "code",
   "execution_count": 11,
   "metadata": {},
   "outputs": [],
   "source": [
    "hist_indices_same_bucketsize = {}\n",
    "for key in hist_indices.keys():\n",
    "    hist_indices_same_bucketsize[key] = random.sample(list(hist_indices[key]), smallest_bucket)"
   ]
  },
  {
   "cell_type": "code",
   "execution_count": 12,
   "metadata": {},
   "outputs": [
    {
     "name": "stdout",
     "output_type": "stream",
     "text": [
      "225\n",
      "225\n",
      "225\n",
      "225\n",
      "225\n",
      "225\n",
      "225\n",
      "225\n",
      "225\n",
      "225\n"
     ]
    }
   ],
   "source": [
    "for key in hist_indices.keys():\n",
    "    print(len(hist_indices_same_bucketsize[key]))"
   ]
  },
  {
   "cell_type": "markdown",
   "metadata": {},
   "source": [
    "# Negative direction"
   ]
  },
  {
   "cell_type": "code",
   "execution_count": 13,
   "metadata": {},
   "outputs": [
    {
     "name": "stdout",
     "output_type": "stream",
     "text": [
      "0.0\n",
      "min:  -0.094770476\n",
      "max:  -0.0006498359\n",
      "mean:  -0.030379059\n",
      "std:  0.023912467\n",
      "-----------------------------\n",
      "0.1\n",
      "min:  -0.19381678\n",
      "max:  -0.07263972\n",
      "mean:  -0.12602045\n",
      "std:  0.028199092\n",
      "-----------------------------\n",
      "0.2\n",
      "min:  -0.28738064\n",
      "max:  -0.1216307\n",
      "mean:  -0.22093503\n",
      "std:  0.031071706\n",
      "-----------------------------\n",
      "0.30000000000000004\n",
      "min:  -0.3887313\n",
      "max:  -0.198825\n",
      "mean:  -0.31653428\n",
      "std:  0.035748452\n",
      "-----------------------------\n",
      "0.4\n",
      "min:  -0.4832864\n",
      "max:  -0.28887296\n",
      "mean:  -0.40334848\n",
      "std:  0.041945927\n",
      "-----------------------------\n",
      "0.5\n",
      "min:  -0.5843334\n",
      "max:  -0.33367547\n",
      "mean:  -0.49347347\n",
      "std:  0.04746863\n",
      "-----------------------------\n",
      "0.6000000000000001\n",
      "min:  -0.68123406\n",
      "max:  -0.3251984\n",
      "mean:  -0.57301694\n",
      "std:  0.063190326\n",
      "-----------------------------\n",
      "0.7000000000000001\n",
      "min:  -0.7847696\n",
      "max:  -0.33626977\n",
      "mean:  -0.6521231\n",
      "std:  0.08167345\n",
      "-----------------------------\n",
      "0.8\n",
      "min:  -0.8579134\n",
      "max:  -0.2658885\n",
      "mean:  -0.70036405\n",
      "std:  0.12245361\n",
      "-----------------------------\n",
      "0.9\n",
      "min:  -0.92986387\n",
      "max:  -1.9788742e-05\n",
      "mean:  -0.26923472\n",
      "std:  0.3088383\n",
      "-----------------------------\n"
     ]
    }
   ],
   "source": [
    "for key in hist_indices.keys():\n",
    "    pred_diff_list = []\n",
    "    for seed in hist_indices_same_bucketsize[key]:\n",
    "        z = torch.from_numpy(np.random.RandomState(int(seed)).randn(1, 512)).to(device)\n",
    "        w = G.mapping(z,label, truncation_psi=truncation_psi)\n",
    "        img_orig = G.synthesis(w, noise_mode=noise_mode)\n",
    "        img_orig = F.interpolate(img_orig, size=256)\n",
    "        pred_orig = sigmoid(regressor(img_orig)).detach().cpu().numpy()[0,attr_index]\n",
    "        \n",
    "        img_shifted = G.synthesis(w-attr_vec_ours_bs8_smile*0.5, noise_mode=noise_mode)\n",
    "        img_shifted = F.interpolate(img_shifted, size=256)\n",
    "        pred_shifted = sigmoid(regressor(img_shifted)).detach().cpu().numpy()[0,attr_index]\n",
    "        pred_diff_list.append((pred_shifted - pred_orig))\n",
    "    pred_array = np.array(pred_diff_list)\n",
    "    print(key)\n",
    "    print(\"min: \", pred_array.min())\n",
    "    print(\"max: \", pred_array.max())\n",
    "    print(\"mean: \", pred_array.mean())\n",
    "    print(\"std: \", pred_array.std())\n",
    "    print(\"-----------------------------\")"
   ]
  },
  {
   "cell_type": "markdown",
   "metadata": {},
   "source": [
    "# positive direction"
   ]
  },
  {
   "cell_type": "code",
   "execution_count": 14,
   "metadata": {},
   "outputs": [
    {
     "name": "stdout",
     "output_type": "stream",
     "text": [
      "0.0\n",
      "min:  0.004406931\n",
      "max:  0.9445577\n",
      "mean:  0.46950766\n",
      "std:  0.30198595\n",
      "-----------------------------\n",
      "0.1\n",
      "min:  0.18348889\n",
      "max:  0.89099896\n",
      "mean:  0.74519557\n",
      "std:  0.11797269\n",
      "-----------------------------\n",
      "0.2\n",
      "min:  0.34053227\n",
      "max:  0.793743\n",
      "mean:  0.6875937\n",
      "std:  0.08148353\n",
      "-----------------------------\n",
      "0.30000000000000004\n",
      "min:  0.39869627\n",
      "max:  0.6929902\n",
      "mean:  0.61081654\n",
      "std:  0.053080708\n",
      "-----------------------------\n",
      "0.4\n",
      "min:  0.2478841\n",
      "max:  0.5971608\n",
      "mean:  0.52018034\n",
      "std:  0.04760139\n",
      "-----------------------------\n",
      "0.5\n",
      "min:  0.25236994\n",
      "max:  0.49710792\n",
      "mean:  0.43459255\n",
      "std:  0.037518233\n",
      "-----------------------------\n",
      "0.6000000000000001\n",
      "min:  0.24069077\n",
      "max:  0.39814568\n",
      "mean:  0.33639604\n",
      "std:  0.03161344\n",
      "-----------------------------\n",
      "0.7000000000000001\n",
      "min:  0.13123715\n",
      "max:  0.29700238\n",
      "mean:  0.2396993\n",
      "std:  0.03014289\n",
      "-----------------------------\n",
      "0.8\n",
      "min:  0.07303035\n",
      "max:  0.1980195\n",
      "mean:  0.14196308\n",
      "std:  0.030491414\n",
      "-----------------------------\n",
      "0.9\n",
      "min:  -0.0002591014\n",
      "max:  0.09230977\n",
      "mean:  0.010305172\n",
      "std:  0.018503824\n",
      "-----------------------------\n"
     ]
    }
   ],
   "source": [
    "for key in hist_indices.keys():\n",
    "    pred_diff_list = []\n",
    "    for seed in hist_indices_same_bucketsize[key]:\n",
    "        z = torch.from_numpy(np.random.RandomState(int(seed)).randn(1, 512)).to(device)\n",
    "        w = G.mapping(z,label, truncation_psi=truncation_psi)\n",
    "        img_orig = G.synthesis(w, noise_mode=noise_mode)\n",
    "        img_orig = F.interpolate(img_orig, size=256)\n",
    "        pred_orig = sigmoid(regressor(img_orig)).detach().cpu().numpy()[0,attr_index]\n",
    "        \n",
    "        img_shifted = G.synthesis(w+attr_vec_ours_bs8_smile*0.5, noise_mode=noise_mode)\n",
    "        img_shifted = F.interpolate(img_shifted, size=256)\n",
    "        pred_shifted = sigmoid(regressor(img_shifted)).detach().cpu().numpy()[0,attr_index]\n",
    "        pred_diff_list.append((pred_shifted - pred_orig))\n",
    "    pred_array = np.array(pred_diff_list)\n",
    "    print(key)\n",
    "    print(\"min: \", pred_array.min())\n",
    "    print(\"max: \", pred_array.max())\n",
    "    print(\"mean: \", pred_array.mean())\n",
    "    print(\"std: \", pred_array.std())\n",
    "    print(\"-----------------------------\")"
   ]
  }
 ],
 "metadata": {
  "kernelspec": {
   "display_name": "stylegan3",
   "language": "python",
   "name": "stylegan3"
  },
  "language_info": {
   "codemirror_mode": {
    "name": "ipython",
    "version": 3
   },
   "file_extension": ".py",
   "mimetype": "text/x-python",
   "name": "python",
   "nbconvert_exporter": "python",
   "pygments_lexer": "ipython3",
   "version": "3.8.3"
  }
 },
 "nbformat": 4,
 "nbformat_minor": 4
}
